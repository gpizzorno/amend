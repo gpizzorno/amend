{
 "cells": [
  {
   "cell_type": "code",
   "execution_count": 1,
   "metadata": {},
   "outputs": [],
   "source": [
    "import csv\n",
    "import os\n",
    "import regex as re # https://pypi.org/project/regex/\n",
    "import numpy as np\n",
    "import matplotlib.pyplot as plt\n",
    "import pandas as pd\n",
    "from IPython.core.interactiveshell import InteractiveShell\n",
    "from ipywidgets import IntProgress\n",
    "from IPython.display import display\n",
    "\n",
    "plt.style.use(['dark_background'])\n",
    "InteractiveShell.ast_node_interactivity = \"none\"\n",
    "pd.options.display.max_rows = 500\n"
   ]
  },
  {
   "cell_type": "code",
   "execution_count": 2,
   "metadata": {},
   "outputs": [],
   "source": [
    "# helper functions\n",
    "# progress bar\n",
    "def p_bar(mx, desc):\n",
    "    global p\n",
    "    p = IntProgress(min=0, max=mx, description=desc)\n",
    "    return p\n"
   ]
  },
  {
   "cell_type": "code",
   "execution_count": 3,
   "metadata": {},
   "outputs": [],
   "source": [
    "# paths\n",
    "# production:\n",
    "#raw_text_path = 'data/raw_text/'\n",
    "#save_data_path = 'data/'\n",
    "#clean_text_path = 'data/clean_txt/'\n",
    "\n",
    "# testing:\n",
    "raw_text_path = 'test_data/sample/'\n",
    "save_data_path = 'test_data/'\n",
    "clean_text_path = 'test_data/clean_sample/'\n",
    "english_dict_path = 'data/nltk_english_words'  # path to dictionary of all English words\n",
    "\n",
    "# load English dictionary\n",
    "with open(english_dict_path, 'r') as file:\n",
    "    english_words = set(file.read().split('\\n'))\n",
    "\n",
    "# load document statistics\n",
    "with open(f'{save_data_path}text_file_statistics.csv', 'r') as file:\n",
    "    doc_data = list(csv.DictReader(file))\n",
    "    \n",
    "# patterns \n",
    "ascii_chars = re.compile(\"\"\"[^!\"#$%&'()*+,-.0-9:; =\\?A-Z\\[\\]_`a-z\\n]\"\"\")\n",
    "word_chars = re.compile(\"[^a-zA-Z0-9 -']\")\n",
    "\n",
    "# line detectors\n",
    "gen_line = r'^([\\\"\\w\\.\\(\\),;-]+ ?)+\\n'\n",
    "jt_title = r'JOINT RESOLUTION'\n",
    "jt_para_ter = r'^([\\\"\\w\\.\\(\\),;-]+ ?)+:\\n'\n",
    "amend_ter = r'^([\\w\\.\\(\\),;-]+ ?)+\\\"\\n'\n",
    "\n",
    "\n",
    "# substitutions\n",
    "general = [\n",
    "    (r'^(.+)-\\n([a-z]+.+\\n)', r'\\1\\2', 0),\n",
    "    (r'^([0-9]{1,2} )([a-z]+.+\\n)', r'\\2', 0),\n",
    "    (r'^[0-9]{1,2}\\n', '', 0),\n",
    "    (r'^\\n', '', 0),\n",
    "]\n"
   ]
  },
  {
   "cell_type": "code",
   "execution_count": 4,
   "metadata": {},
   "outputs": [
    {
     "data": {
      "application/vnd.jupyter.widget-view+json": {
       "model_id": "5677fa1b6dc946f0a9f697a565d44d00",
       "version_major": 2,
       "version_minor": 0
      },
      "text/plain": [
       "IntProgress(value=0, description='Processing', max=24)"
      ]
     },
     "metadata": {},
     "output_type": "display_data"
    }
   ],
   "source": [
    "display(p_bar(len(doc_data), 'Processing')) # show the progress bar\n",
    "\n",
    "for i, doc in enumerate(doc_data):\n",
    "    \n",
    "    if float(doc['english_words']) > 50:  # threshold for non-rubbish text\n",
    "        filename = doc['filename']\n",
    "        with open(f'{raw_text_path}{filename}', 'r') as file:\n",
    "            text = file.read()\n",
    "\n",
    "        # general cleanup\n",
    "        text = ascii_chars.sub('', text) # remove non-ascii characters\n",
    "        \n",
    "        for pattern, fix, flags in general:\n",
    "            text = re.sub(pattern, fix, text, flags)\n",
    "\n",
    "        # save results\n",
    "        with open(f'{clean_text_path}{filename}', 'w') as file:\n",
    "            file.write(text)\n",
    "    \n",
    "    if i % 100 == 0:\n",
    "        p.value += 100  #update progress bar\n"
   ]
  },
  {
   "cell_type": "code",
   "execution_count": null,
   "metadata": {},
   "outputs": [],
   "source": [
    "\n"
   ]
  },
  {
   "cell_type": "code",
   "execution_count": null,
   "metadata": {},
   "outputs": [],
   "source": []
  }
 ],
 "metadata": {
  "kernelspec": {
   "display_name": "Python 3 (ipykernel)",
   "language": "python",
   "name": "python3"
  },
  "language_info": {
   "codemirror_mode": {
    "name": "ipython",
    "version": 3
   },
   "file_extension": ".py",
   "mimetype": "text/x-python",
   "name": "python",
   "nbconvert_exporter": "python",
   "pygments_lexer": "ipython3",
   "version": "3.9.6"
  }
 },
 "nbformat": 4,
 "nbformat_minor": 4
}
