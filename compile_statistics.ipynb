{
 "cells": [
  {
   "cell_type": "markdown",
   "metadata": {},
   "source": [
    "## Compile statistics from text files\n",
    "\n",
    "The code below is used to capture a number of data points from the OCRd text files that can be used to detect patterns and classify the documents into bins that require different processing workflows.\n"
   ]
  },
  {
   "cell_type": "markdown",
   "metadata": {},
   "source": [
    "### Setup"
   ]
  },
  {
   "cell_type": "code",
   "execution_count": 1,
   "metadata": {},
   "outputs": [],
   "source": [
    "import csv\n",
    "import os\n",
    "import regex as re # https://pypi.org/project/regex/\n",
    "import numpy as np\n",
    "import matplotlib.pyplot as plt\n",
    "from scipy.signal import savgol_filter\n",
    "import pandas as pd\n",
    "from IPython.core.interactiveshell import InteractiveShell\n",
    "from ipywidgets import IntProgress\n",
    "from IPython.display import display\n",
    "\n",
    "plt.style.use(['dark_background'])\n",
    "InteractiveShell.ast_node_interactivity = \"none\"\n",
    "pd.options.display.max_rows = 100\n"
   ]
  },
  {
   "cell_type": "code",
   "execution_count": 2,
   "metadata": {},
   "outputs": [],
   "source": [
    "# progress bar\n",
    "def p_bar(mx, desc):\n",
    "    global p\n",
    "    p = IntProgress(min=0, max=mx, description=desc)\n",
    "    return p\n",
    "\n",
    "# paths\n",
    "english_dict_path = 'data/nltk_english_words'  # path to dictionary of all English words\n",
    "\n",
    "# production:\n",
    "raw_text_path = 'data/raw_text/'\n",
    "save_data_path = 'data/'\n",
    "\n",
    "# testing:\n",
    "#raw_text_path = 'test_data/sample/'\n",
    "#save_data_path = 'test_data/'\n",
    "\n",
    "# patterns \n",
    "ascii_string = set(\"\"\"!\"#$%&\\'()*+,-./0123456789:; =?ABCDEFGHIJKLMNOPQRSTUVWXYZ[\\\\]_`abcdefghijklmnopqrstuvwxyz\"\"\")\n",
    "word_chars = re.compile(\"[^a-zA-Z0-9 -']\")\n",
    "\n",
    "# load English dictionary\n",
    "with open(english_dict_path, 'r') as file:\n",
    "    english_words = set(file.read().split('\\n'))\n",
    "\n",
    "# create a list of all files in the folder\n",
    "raw_files = [f'{raw_text_path}{file.name}' for file in os.scandir(raw_text_path) if file.name != \".DS_Store\"]\n"
   ]
  },
  {
   "cell_type": "markdown",
   "metadata": {},
   "source": [
    "### Extract statistics"
   ]
  },
  {
   "cell_type": "code",
   "execution_count": 3,
   "metadata": {},
   "outputs": [
    {
     "data": {
      "application/vnd.jupyter.widget-view+json": {
       "model_id": "5b8c4fd31e0a405ab1d99ca79ffe2f3c",
       "version_major": 2,
       "version_minor": 0
      },
      "text/plain": [
       "IntProgress(value=0, description='Processing', max=9838)"
      ]
     },
     "metadata": {},
     "output_type": "display_data"
    }
   ],
   "source": [
    "file_stats = {}  # dictionary to store the results\n",
    "display(p_bar(len(raw_files), 'Processing')) # show the progress bar\n",
    "\n",
    "for i, fpath in enumerate(raw_files):\n",
    "    with open(fpath, 'r') as file:\n",
    "        text = file.read()\n",
    "    \n",
    "    # determine presence of \"JOINT RESOLUTION\" string\n",
    "    # fuzzy match parmitting 3 errors, ie. subs|dels|ins\n",
    "    jt_matches = re.search('(JOINT RESOLUTION){e<=3}', text)\n",
    "    \n",
    "    line_count = len(text.split('\\n')) # number of lines\n",
    "    char_count = len(text)  # number of characters\n",
    "    ascii_count = sum(c in ascii_string for c in text)  # percent of ascii characters\n",
    "    \n",
    "    text = word_chars.sub('', text) # clean non-word characters\n",
    "    tokens = [w.lower() for w in text.split(' ')]  # tokenize\n",
    "    word_count = len(tokens)  # number of words\n",
    "    english_count = sum(c in english_words for c in tokens)  # percent of english words\n",
    "    \n",
    "    # add metrics to dict\n",
    "    filename = os.path.basename(fpath)  # get filename\n",
    "    file_stats[filename] = {\n",
    "        'lines': line_count,\n",
    "        'chars': char_count,\n",
    "        'words': ascii_count,\n",
    "        'ascii_chars': round(ascii_count*100/char_count, 2),\n",
    "        'english_words': round(english_count*100/word_count, 2),\n",
    "        'jt_string': 1 if jt_matches is not None else 0\n",
    "    }\n",
    "    \n",
    "    if i % 100 == 0:\n",
    "        p.value += 100  #update progress bar\n"
   ]
  },
  {
   "cell_type": "code",
   "execution_count": 4,
   "metadata": {},
   "outputs": [
    {
     "data": {
      "text/html": [
       "<div>\n",
       "<style scoped>\n",
       "    .dataframe tbody tr th:only-of-type {\n",
       "        vertical-align: middle;\n",
       "    }\n",
       "\n",
       "    .dataframe tbody tr th {\n",
       "        vertical-align: top;\n",
       "    }\n",
       "\n",
       "    .dataframe thead th {\n",
       "        text-align: right;\n",
       "    }\n",
       "</style>\n",
       "<table border=\"1\" class=\"dataframe\">\n",
       "  <thead>\n",
       "    <tr style=\"text-align: right;\">\n",
       "      <th></th>\n",
       "      <th>lines</th>\n",
       "      <th>chars</th>\n",
       "      <th>words</th>\n",
       "      <th>ascii_chars</th>\n",
       "      <th>english_words</th>\n",
       "      <th>jt_string</th>\n",
       "    </tr>\n",
       "  </thead>\n",
       "  <tbody>\n",
       "    <tr>\n",
       "      <th>91-hjres1029-000ih-19691209.txt</th>\n",
       "      <td>27</td>\n",
       "      <td>1269</td>\n",
       "      <td>1218</td>\n",
       "      <td>95.98</td>\n",
       "      <td>70.11</td>\n",
       "      <td>0</td>\n",
       "    </tr>\n",
       "    <tr>\n",
       "      <th>94-hjres272-000ih-19750304.txt</th>\n",
       "      <td>28</td>\n",
       "      <td>1180</td>\n",
       "      <td>1132</td>\n",
       "      <td>95.93</td>\n",
       "      <td>70.55</td>\n",
       "      <td>1</td>\n",
       "    </tr>\n",
       "    <tr>\n",
       "      <th>90-hjres1137-000ih-19680227.txt</th>\n",
       "      <td>25</td>\n",
       "      <td>1076</td>\n",
       "      <td>1034</td>\n",
       "      <td>96.10</td>\n",
       "      <td>72.33</td>\n",
       "      <td>1</td>\n",
       "    </tr>\n",
       "    <tr>\n",
       "      <th>78-hjres318-000ih-19441128.txt</th>\n",
       "      <td>40</td>\n",
       "      <td>1278</td>\n",
       "      <td>1218</td>\n",
       "      <td>95.31</td>\n",
       "      <td>70.86</td>\n",
       "      <td>1</td>\n",
       "    </tr>\n",
       "    <tr>\n",
       "      <th>92-sjres34-000is-19710126.txt</th>\n",
       "      <td>40</td>\n",
       "      <td>1990</td>\n",
       "      <td>1936</td>\n",
       "      <td>97.29</td>\n",
       "      <td>60.36</td>\n",
       "      <td>0</td>\n",
       "    </tr>\n",
       "    <tr>\n",
       "      <th>...</th>\n",
       "      <td>...</td>\n",
       "      <td>...</td>\n",
       "      <td>...</td>\n",
       "      <td>...</td>\n",
       "      <td>...</td>\n",
       "      <td>...</td>\n",
       "    </tr>\n",
       "    <tr>\n",
       "      <th>101-sjres9-000is-19890125.txt</th>\n",
       "      <td>68</td>\n",
       "      <td>2220</td>\n",
       "      <td>2133</td>\n",
       "      <td>96.08</td>\n",
       "      <td>71.70</td>\n",
       "      <td>1</td>\n",
       "    </tr>\n",
       "    <tr>\n",
       "      <th>bills-106hjres3ih.txt</th>\n",
       "      <td>32</td>\n",
       "      <td>1164</td>\n",
       "      <td>1115</td>\n",
       "      <td>95.79</td>\n",
       "      <td>68.42</td>\n",
       "      <td>1</td>\n",
       "    </tr>\n",
       "    <tr>\n",
       "      <th>88-hjres28-000ih-19630109.txt</th>\n",
       "      <td>209</td>\n",
       "      <td>6057</td>\n",
       "      <td>5814</td>\n",
       "      <td>95.99</td>\n",
       "      <td>78.44</td>\n",
       "      <td>1</td>\n",
       "    </tr>\n",
       "    <tr>\n",
       "      <th>bills-104hjres11ih.txt</th>\n",
       "      <td>159</td>\n",
       "      <td>4546</td>\n",
       "      <td>4361</td>\n",
       "      <td>95.93</td>\n",
       "      <td>74.81</td>\n",
       "      <td>1</td>\n",
       "    </tr>\n",
       "    <tr>\n",
       "      <th>76-hjres270-000ih-19390419.txt</th>\n",
       "      <td>23</td>\n",
       "      <td>901</td>\n",
       "      <td>865</td>\n",
       "      <td>96.00</td>\n",
       "      <td>68.55</td>\n",
       "      <td>1</td>\n",
       "    </tr>\n",
       "  </tbody>\n",
       "</table>\n",
       "<p>9838 rows × 6 columns</p>\n",
       "</div>"
      ],
      "text/plain": [
       "                                 lines  chars  words  ascii_chars  \\\n",
       "91-hjres1029-000ih-19691209.txt     27   1269   1218        95.98   \n",
       "94-hjres272-000ih-19750304.txt      28   1180   1132        95.93   \n",
       "90-hjres1137-000ih-19680227.txt     25   1076   1034        96.10   \n",
       "78-hjres318-000ih-19441128.txt      40   1278   1218        95.31   \n",
       "92-sjres34-000is-19710126.txt       40   1990   1936        97.29   \n",
       "...                                ...    ...    ...          ...   \n",
       "101-sjres9-000is-19890125.txt       68   2220   2133        96.08   \n",
       "bills-106hjres3ih.txt               32   1164   1115        95.79   \n",
       "88-hjres28-000ih-19630109.txt      209   6057   5814        95.99   \n",
       "bills-104hjres11ih.txt             159   4546   4361        95.93   \n",
       "76-hjres270-000ih-19390419.txt      23    901    865        96.00   \n",
       "\n",
       "                                 english_words  jt_string  \n",
       "91-hjres1029-000ih-19691209.txt          70.11          0  \n",
       "94-hjres272-000ih-19750304.txt           70.55          1  \n",
       "90-hjres1137-000ih-19680227.txt          72.33          1  \n",
       "78-hjres318-000ih-19441128.txt           70.86          1  \n",
       "92-sjres34-000is-19710126.txt            60.36          0  \n",
       "...                                        ...        ...  \n",
       "101-sjres9-000is-19890125.txt            71.70          1  \n",
       "bills-106hjres3ih.txt                    68.42          1  \n",
       "88-hjres28-000ih-19630109.txt            78.44          1  \n",
       "bills-104hjres11ih.txt                   74.81          1  \n",
       "76-hjres270-000ih-19390419.txt           68.55          1  \n",
       "\n",
       "[9838 rows x 6 columns]"
      ]
     },
     "metadata": {},
     "output_type": "display_data"
    }
   ],
   "source": [
    "file_stats_df = pd.DataFrame.from_dict(file_stats, orient='index')  # create a dataframe with the results\n",
    "file_stats_df.to_csv(f'{save_data_path}text_file_statistics.csv')  # save the results to a CSV file\n",
    "\n",
    "display(file_stats_df)  # display the results\n"
   ]
  },
  {
   "cell_type": "markdown",
   "metadata": {},
   "source": [
    "### Analysis"
   ]
  },
  {
   "cell_type": "code",
   "execution_count": 5,
   "metadata": {},
   "outputs": [
    {
     "data": {
      "text/html": [
       "<div>\n",
       "<style scoped>\n",
       "    .dataframe tbody tr th:only-of-type {\n",
       "        vertical-align: middle;\n",
       "    }\n",
       "\n",
       "    .dataframe tbody tr th {\n",
       "        vertical-align: top;\n",
       "    }\n",
       "\n",
       "    .dataframe thead th {\n",
       "        text-align: right;\n",
       "    }\n",
       "</style>\n",
       "<table border=\"1\" class=\"dataframe\">\n",
       "  <thead>\n",
       "    <tr style=\"text-align: right;\">\n",
       "      <th></th>\n",
       "      <th>lines</th>\n",
       "      <th>chars</th>\n",
       "      <th>words</th>\n",
       "      <th>ascii_chars</th>\n",
       "      <th>english_words</th>\n",
       "    </tr>\n",
       "  </thead>\n",
       "  <tbody>\n",
       "    <tr>\n",
       "      <th>count</th>\n",
       "      <td>9838.000000</td>\n",
       "      <td>9.838000e+03</td>\n",
       "      <td>9.838000e+03</td>\n",
       "      <td>9838.000000</td>\n",
       "      <td>9838.000000</td>\n",
       "    </tr>\n",
       "    <tr>\n",
       "      <th>mean</th>\n",
       "      <td>133.252185</td>\n",
       "      <td>4.038591e+03</td>\n",
       "      <td>3.860114e+03</td>\n",
       "      <td>95.624264</td>\n",
       "      <td>72.176338</td>\n",
       "    </tr>\n",
       "    <tr>\n",
       "      <th>std</th>\n",
       "      <td>1860.356820</td>\n",
       "      <td>4.956045e+04</td>\n",
       "      <td>4.723138e+04</td>\n",
       "      <td>1.689870</td>\n",
       "      <td>4.865600</td>\n",
       "    </tr>\n",
       "    <tr>\n",
       "      <th>min</th>\n",
       "      <td>1.000000</td>\n",
       "      <td>1.000000e+00</td>\n",
       "      <td>0.000000e+00</td>\n",
       "      <td>0.000000</td>\n",
       "      <td>15.710000</td>\n",
       "    </tr>\n",
       "    <tr>\n",
       "      <th>25%</th>\n",
       "      <td>33.000000</td>\n",
       "      <td>1.309000e+03</td>\n",
       "      <td>1.253000e+03</td>\n",
       "      <td>95.550000</td>\n",
       "      <td>70.470000</td>\n",
       "    </tr>\n",
       "    <tr>\n",
       "      <th>50%</th>\n",
       "      <td>49.000000</td>\n",
       "      <td>1.578000e+03</td>\n",
       "      <td>1.510000e+03</td>\n",
       "      <td>95.950000</td>\n",
       "      <td>72.680000</td>\n",
       "    </tr>\n",
       "    <tr>\n",
       "      <th>75%</th>\n",
       "      <td>74.000000</td>\n",
       "      <td>2.325000e+03</td>\n",
       "      <td>2.222750e+03</td>\n",
       "      <td>96.230000</td>\n",
       "      <td>75.000000</td>\n",
       "    </tr>\n",
       "    <tr>\n",
       "      <th>max</th>\n",
       "      <td>109758.000000</td>\n",
       "      <td>2.764147e+06</td>\n",
       "      <td>2.638264e+06</td>\n",
       "      <td>97.850000</td>\n",
       "      <td>100.000000</td>\n",
       "    </tr>\n",
       "  </tbody>\n",
       "</table>\n",
       "</div>"
      ],
      "text/plain": [
       "               lines         chars         words  ascii_chars  english_words\n",
       "count    9838.000000  9.838000e+03  9.838000e+03  9838.000000    9838.000000\n",
       "mean      133.252185  4.038591e+03  3.860114e+03    95.624264      72.176338\n",
       "std      1860.356820  4.956045e+04  4.723138e+04     1.689870       4.865600\n",
       "min         1.000000  1.000000e+00  0.000000e+00     0.000000      15.710000\n",
       "25%        33.000000  1.309000e+03  1.253000e+03    95.550000      70.470000\n",
       "50%        49.000000  1.578000e+03  1.510000e+03    95.950000      72.680000\n",
       "75%        74.000000  2.325000e+03  2.222750e+03    96.230000      75.000000\n",
       "max    109758.000000  2.764147e+06  2.638264e+06    97.850000     100.000000"
      ]
     },
     "metadata": {},
     "output_type": "display_data"
    }
   ],
   "source": [
    "# show descriptive stats for key metrics\n",
    "display(file_stats_df.describe()[\n",
    "    ['lines', 'chars', 'words', 'ascii_chars', 'english_words']\n",
    "])\n"
   ]
  },
  {
   "cell_type": "markdown",
   "metadata": {},
   "source": [
    "The mean for ```english_words``` is 72.2 while the ```min``` is 15.7, the outliers should correspond to the handwritten documents where the OCR engine returns just gibberish. We can confirm with a quick chart:"
   ]
  },
  {
   "cell_type": "code",
   "execution_count": 6,
   "metadata": {},
   "outputs": [
    {
     "data": {
      "image/png": "[encoded data removed]",
      "text/plain": [
       "<Figure size 864x360 with 1 Axes>"
      ]
     },
     "metadata": {},
     "output_type": "display_data"
    }
   ],
   "source": [
    "fig = plt.figure(figsize=(12, 5))\n",
    "plt.hist(file_stats_df['english_words'])\n"
   ]
  },
  {
   "cell_type": "code",
   "execution_count": 16,
   "metadata": {},
   "outputs": [
    {
     "data": {
      "image/png": "[encoded data removed]",
      "text/plain": [
       "<Figure size 1440x1080 with 6 Axes>"
      ]
     },
     "metadata": {},
     "output_type": "display_data"
    }
   ],
   "source": [
    "fig, axs = plt.subplots(2, 3, figsize=(20, 15))\n",
    "axs[0, 0].boxplot(file_stats_df['lines'])\n",
    "axs[0, 1].boxplot(file_stats_df['words'])\n",
    "axs[0, 2].boxplot(file_stats_df['chars'])\n",
    "axs[1, 0].boxplot(file_stats_df['english_words'])\n",
    "axs[1, 1].boxplot(file_stats_df['ascii_chars'])\n",
    "\n",
    "\n"
   ]
  },
  {
   "cell_type": "code",
   "execution_count": null,
   "metadata": {},
   "outputs": [],
   "source": []
  }
 ],
 "metadata": {
  "kernelspec": {
   "display_name": "Python 3 (ipykernel)",
   "language": "python",
   "name": "python3"
  },
  "language_info": {
   "codemirror_mode": {
    "name": "ipython",
    "version": 3
   },
   "file_extension": ".py",
   "mimetype": "text/x-python",
   "name": "python",
   "nbconvert_exporter": "python",
   "pygments_lexer": "ipython3",
   "version": "3.9.6"
  }
 },
 "nbformat": 4,
 "nbformat_minor": 4
}
